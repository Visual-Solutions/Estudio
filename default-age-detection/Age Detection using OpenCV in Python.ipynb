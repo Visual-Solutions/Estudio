{
 "cells": [
  {
   "cell_type": "markdown",
   "metadata": {},
   "source": [
    "# Age Detection using OpenCV in Python"
   ]
  },
  {
   "attachments": {},
   "cell_type": "markdown",
   "metadata": {},
   "source": [
    "## Learn how to predict someone's age from his front face picture using OpenCV library in Python\n"
   ]
  },
  {
   "attachments": {},
   "cell_type": "markdown",
   "metadata": {},
   "source": [
    "Recently, wide attention has grown in the field of computer vision, especially in face recognition, detection, and facial landmarks localization. Many significant features can be directly derived from the human face, such as age, gender, and emotions.\n",
    "\n",
    "Age estimation can be defined as the automatic process of classifying the facial image into the exact age or to a specific age range. Basically, age estimation from the face is still a challenging problem, and guessing an exact age from a single image is very difficult due to factors like makeup, lighting, obstructions, and facial expressions.\n",
    "\n",
    "Inspired by many ubiquitous applications spread across multiple channels like \"AgeBot\" on Android, \"Age Calculator\" on iPhone, we are going to build a simple Age estimator using OpenCV in Python. \n",
    "\n",
    "The primary goal of this tutorial is to develop a lightweight command-line-based utility, through Python-based modules and it is intended to describe the steps to automatically detect faces in a static image and to predict the age of the spotted persons using a deep learning-based age detection model.\n"
   ]
  },
  {
   "cell_type": "markdown",
   "metadata": {},
   "source": [
    "Please note that if you want to detect both age and gender at the same time, check this tutorial for it."
   ]
  },
  {
   "attachments": {},
   "cell_type": "markdown",
   "metadata": {},
   "source": [
    "Learn also: Gender Detection using OpenCV in Python.\n",
    "\n",
    "The following components come into play:\n",
    "\n",
    "- OpenCV: is an open-source library for computer vision, machine learning, and image processing. OpenCV supports a wide variety of programming languages like Python, C++, Java and it is used for all sorts of image and video analysis like facial detection and recognition, photo editing, optical character recognition, and a whole heap more. Using OpenCV comes with many benefits among which:\n",
    "    - OpenCV is an open-source library and it is free of cost.\n",
    "    - OpenCV is fast since it is written in C/C++.\n",
    "    - OpenCV supports most Operating Systems such as Windows, Linux, and macOS.\n",
    "Suggestion: Check our computer vision tutorials for more OpenCV use cases.\n",
    "- filetype: is a small and dependency-free Python package to infer file and MIME types."
   ]
  },
  {
   "cell_type": "markdown",
   "metadata": {},
   "source": [
    "For the purpose of this article, we will use pre-trained Caffe models, one for face detection taken from the face detection tutorial, and another model for age detection. Below is the list of necessary files to include in our project directory:"
   ]
  },
  {
   "attachments": {},
   "cell_type": "markdown",
   "metadata": {},
   "source": [
    "- `age_net.caffemodel`: It is the pre-trained model weights for age detection. You can download it here.\n",
    "- `deploy_age.prototxt`: is the model architecture for the age detection model (a plain text file with a JSON-like structure containing all the neural network layer’s definitions). Get it here.\n",
    "- `res10_300x300_ssd_iter_140000_fp16.caffemodel`: The pre-trained model weights for face detection, download here.\n",
    "- `deploy.prototxt.txt`: This is the model architecture for the face detection model, download here.\n",
    "\n",
    "After downloading the 4 necessary files, put them in a folder and call it \"weights\":"
   ]
  },
  {
   "cell_type": "code",
   "execution_count": 1,
   "metadata": {},
   "outputs": [],
   "source": [
    "# ! pip install filetype"
   ]
  },
  {
   "cell_type": "code",
   "execution_count": 4,
   "metadata": {},
   "outputs": [],
   "source": [
    "# Import Libraries\n",
    "import cv2\n",
    "import os\n",
    "import filetype\n",
    "import numpy as np\n",
    "\n",
    "# The model architecture\n",
    "# download from: https://drive.google.com/open?id=1kiusFljZc9QfcIYdU2s7xrtWHTraHwmW\n",
    "path_folder = f\"weights\"\n",
    "AGE_MODEL = f\"{path_folder}/deploy_age.prototxt\"\n",
    "# The model pre-trained weights\n",
    "# download from: https://drive.google.com/open?id=1kWv0AjxGSN0g31OeJa02eBGM0R_jcjIl\n",
    "AGE_PROTO = f\"{path_folder}/age_net.caffemodel\"\n",
    "# Each Caffe Model impose the shape of the input image also image preprocessing is required like mean\n",
    "# substraction to eliminate the effect of illunination changes\n",
    "MODEL_MEAN_VALUES = (78.4263377603, 87.7689143744, 114.895847746)\n",
    "# Represent the 8 age classes of this CNN probability layer\n",
    "AGE_INTERVALS = ['(0, 2)', '(4, 6)', '(8, 12)', '(15, 20)',\n",
    "                 '(25, 32)', '(38, 43)', '(48, 53)', '(60, 100)']\n",
    "\n",
    "\n",
    "face_proto_name = \"deploy.prototxt\"\n",
    "prototxtPath = os.path.join(os.getcwd(), path_folder , face_proto_name)\n",
    "face_model_name = \"res10_300x300_ssd_iter_140000_fp16\"\n",
    "weightsPath = os.path.join(os.getcwd(), path_folder, f\"{face_model_name}.caffemodel\")\n",
    "\n",
    "# download from: https://raw.githubusercontent.com/opencv/opencv/master/samples/dnn/face_detector/deploy.prototxt\n",
    "FACE_PROTO = prototxtPath\n",
    "# download from: https://raw.githubusercontent.com/opencv/opencv_3rdparty/dnn_samples_face_detector_20180205_fp16/res10_300x300_ssd_iter_140000_fp16.caffemodel\n",
    "FACE_MODEL = weightsPath\n",
    "# f\"{path_folder}res10_300x300_ssd_iter_140000_fp16.caffemodel\"\n",
    "# Initialize frame size\n",
    "frame_width = 1280\n",
    "frame_height = 720\n",
    "# load face Caffe model\n",
    "face_net = cv2.dnn.readNetFromCaffe(FACE_PROTO, FACE_MODEL)\n",
    "# Load age prediction model\n",
    "age_net = cv2.dnn.readNetFromCaffe(AGE_MODEL, AGE_PROTO)"
   ]
  },
  {
   "attachments": {},
   "cell_type": "markdown",
   "metadata": {},
   "source": [
    "The variable `AGE_INTERVALS` is a list of the age classes of the age detection model.\n",
    "\n",
    "Next, let's make a function that takes an image as input, and returns a list of detected faces:"
   ]
  },
  {
   "cell_type": "code",
   "execution_count": 5,
   "metadata": {},
   "outputs": [],
   "source": [
    "def get_faces(frame, confidence_threshold=0.5):\n",
    "    \"\"\"Returns the box coordinates of all detected faces\"\"\"\n",
    "    # convert the frame into a blob to be ready for NN input\n",
    "    blob = cv2.dnn.blobFromImage(frame, 1.0, (300, 300), (104, 177.0, 123.0))\n",
    "    # set the image as input to the NN\n",
    "    face_net.setInput(blob)\n",
    "    # perform inference and get predictions\n",
    "    output = np.squeeze(face_net.forward())\n",
    "    # initialize the result list\n",
    "    faces = []\n",
    "    # Loop over the faces detected\n",
    "    for i in range(output.shape[0]):\n",
    "        confidence = output[i, 2]\n",
    "        if confidence > confidence_threshold:\n",
    "            box = output[i, 3:7] * np.array([frame_width, frame_height, frame_width, frame_height])\n",
    "            # convert to integers\n",
    "            start_x, start_y, end_x, end_y = box.astype(np.int)\n",
    "            # widen the box a little\n",
    "            start_x, start_y, end_x, end_y = start_x - \\\n",
    "                10, start_y - 10, end_x + 10, end_y + 10\n",
    "            start_x = 0 if start_x < 0 else start_x\n",
    "            start_y = 0 if start_y < 0 else start_y\n",
    "            end_x = 0 if end_x < 0 else end_x\n",
    "            end_y = 0 if end_y < 0 else end_y\n",
    "            # append to our list\n",
    "            faces.append((start_x, start_y, end_x, end_y))\n",
    "    return faces"
   ]
  },
  {
   "cell_type": "markdown",
   "metadata": {},
   "source": [
    "Most of the code was grabbed from the face detection tutorial, check it out for more information on how it's done.\n",
    "\n",
    "Let's make a utility function that displays a given image:"
   ]
  },
  {
   "cell_type": "code",
   "execution_count": 6,
   "metadata": {},
   "outputs": [],
   "source": [
    "def display_img(title, img):\n",
    "    \"\"\"Displays an image on screen and maintains the output until the user presses a key\"\"\"\n",
    "    # Display Image on screen\n",
    "    cv2.imshow(title, img)\n",
    "    # Mantain output until user presses a key\n",
    "    cv2.waitKey(0)\n",
    "    # Destroy windows when user presses a key\n",
    "    cv2.destroyAllWindows()"
   ]
  },
  {
   "cell_type": "markdown",
   "metadata": {},
   "source": [
    "Next, below are two utility functions, one for finding the appropriate font size when printing text to the image, and another for dynamically resizing an image:"
   ]
  },
  {
   "cell_type": "code",
   "execution_count": 7,
   "metadata": {},
   "outputs": [],
   "source": [
    "def get_optimal_font_scale(text, width):\n",
    "    \"\"\"Determine the optimal font scale based on the hosting frame width\"\"\"\n",
    "    for scale in reversed(range(0, 60, 1)):\n",
    "        textSize = cv2.getTextSize(text, fontFace=cv2.FONT_HERSHEY_DUPLEX, fontScale=scale/10, thickness=1)\n",
    "        new_width = textSize[0][0]\n",
    "        if (new_width <= width):\n",
    "            return scale/10\n",
    "    return 1\n",
    "\n",
    "# from: https://stackoverflow.com/questions/44650888/resize-an-image-without-distortion-opencv\n",
    "def image_resize(image, width = None, height = None, inter = cv2.INTER_AREA):\n",
    "    # initialize the dimensions of the image to be resized and\n",
    "    # grab the image size\n",
    "    dim = None\n",
    "    (h, w) = image.shape[:2]\n",
    "    # if both the width and height are None, then return the\n",
    "    # original image\n",
    "    if width is None and height is None:\n",
    "        return image\n",
    "    # check to see if the width is None\n",
    "    if width is None:\n",
    "        # calculate the ratio of the height and construct the\n",
    "        # dimensions\n",
    "        r = height / float(h)\n",
    "        dim = (int(w * r), height)\n",
    "    # otherwise, the height is None\n",
    "    else:\n",
    "        # calculate the ratio of the width and construct the\n",
    "        # dimensions\n",
    "        r = width / float(w)\n",
    "        dim = (width, int(h * r))\n",
    "    # resize the image\n",
    "    return cv2.resize(image, dim, interpolation = inter)"
   ]
  },
  {
   "cell_type": "markdown",
   "metadata": {},
   "source": [
    "Now we know how to detect faces, below function is responsible for predicting age for every face detected:"
   ]
  },
  {
   "cell_type": "code",
   "execution_count": 8,
   "metadata": {},
   "outputs": [],
   "source": [
    "def predict_age(input_path: str):\n",
    "    \"\"\"Predict the age of the faces showing in the image\"\"\"\n",
    "    # Read Input Image\n",
    "    img = cv2.imread(input_path)\n",
    "    # Take a copy of the initial image and resize it\n",
    "    frame = img.copy()\n",
    "    if frame.shape[1] > frame_width:\n",
    "        frame = image_resize(frame, width=frame_width)\n",
    "    faces = get_faces(frame)\n",
    "    for i, (start_x, start_y, end_x, end_y) in enumerate(faces):\n",
    "        face_img = frame[start_y: end_y, start_x: end_x]\n",
    "        # image --> Input image to preprocess before passing it through our dnn for classification.\n",
    "        blob = cv2.dnn.blobFromImage(\n",
    "            image=face_img, scalefactor=1.0, size=(227, 227), \n",
    "            mean=MODEL_MEAN_VALUES, swapRB=False\n",
    "        )\n",
    "        # Predict Age\n",
    "        age_net.setInput(blob)\n",
    "        age_preds = age_net.forward()\n",
    "        print(\"=\"*30, f\"Face {i+1} Prediction Probabilities\", \"=\"*30)\n",
    "        for i in range(age_preds[0].shape[0]):\n",
    "            print(f\"{AGE_INTERVALS[i]}: {age_preds[0, i]*100:.2f}%\")\n",
    "        i = age_preds[0].argmax()\n",
    "        age = AGE_INTERVALS[i]\n",
    "        age_confidence_score = age_preds[0][i]\n",
    "        # Draw the box\n",
    "        label = f\"Age:{age} - {age_confidence_score*100:.2f}%\"\n",
    "        print(label)\n",
    "        # get the position where to put the text\n",
    "        yPos = start_y - 15\n",
    "        while yPos < 15:\n",
    "            yPos += 15\n",
    "        # write the text into the frame\n",
    "        cv2.putText(frame, label, (start_x, yPos),\n",
    "                    cv2.FONT_HERSHEY_SIMPLEX, 0.5, (0, 255, 0), thickness=2)\n",
    "        # draw the rectangle around the face\n",
    "        cv2.rectangle(frame, (start_x, start_y), (end_x, end_y), color=(255, 0, 0), thickness=2)\n",
    "    # Display processed image\n",
    "    display_img('Age Estimator', frame)\n",
    "    # save the image if you want\n",
    "    # cv2.imwrite(\"predicted_age.jpg\", frame)"
   ]
  },
  {
   "attachments": {},
   "cell_type": "markdown",
   "metadata": {},
   "source": [
    "Here is the complete process of the above function:\n",
    "\n",
    "- We read the image using the cv2.imread() method.\n",
    "- After the image is resized to the appropriate size, we use our get_faces() function to get all detected faces.\n",
    "- We iterate on each face image, we set it as input to the age prediction model to perform age prediction.\n",
    "- We print the probabilities of each class, as well as the dominant one.\n",
    "- A rectangle and text containing age are drawn on the image.\n",
    "- Finally, we show the final image.\n",
    "You can always uncomment the cv2.imwrite() line to save the new image.\n",
    "\n",
    "Now let's write our main code:"
   ]
  },
  {
   "cell_type": "code",
   "execution_count": 19,
   "metadata": {},
   "outputs": [
    {
     "name": "stdout",
     "output_type": "stream",
     "text": [
      "No funciono, pero aquí hay una prediccion, para la imagen abuelo-serio.jpg\n",
      "============================== Face 1 Prediction Probabilities ==============================\n",
      "(0, 2): 98.14%\n",
      "(4, 6): 1.44%\n",
      "(8, 12): 0.41%\n",
      "(15, 20): 0.00%\n",
      "(25, 32): 0.01%\n",
      "(38, 43): 0.00%\n",
      "(48, 53): 0.00%\n",
      "(60, 100): 0.00%\n",
      "Age:(0, 2) - 98.14%\n"
     ]
    },
    {
     "name": "stderr",
     "output_type": "stream",
     "text": [
      "C:\\Users\\user\\AppData\\Local\\Temp\\ipykernel_3792\\2762248531.py:17: DeprecationWarning: `np.int` is a deprecated alias for the builtin `int`. To silence this warning, use `int` by itself. Doing this will not modify any behavior and is safe. When replacing `np.int`, you may wish to use e.g. `np.int64` or `np.int32` to specify the precision. If you wish to review your current use, check the release note link for additional information.\n",
      "Deprecated in NumPy 1.20; for more details and guidance: https://numpy.org/devdocs/release/1.20.0-notes.html#deprecations\n",
      "  start_x, start_y, end_x, end_y = box.astype(np.int)\n"
     ]
    }
   ],
   "source": [
    "if __name__ == '__main__':\n",
    "    # Parsing command line arguments entered by user\n",
    "    import sys\n",
    "    try:\n",
    "        image_path = sys.argv[1]\n",
    "        predict_age(image_path)\n",
    "    except:\n",
    "        path_photo = \"6-full-family.jpg\"\n",
    "        path_photo = \"6-full-family-smile.jpg\"\n",
    "        path_photo = \"6-full-family-2.jpg\"\n",
    "        path_photo = \"abuelo-serio.jpg\"\n",
    "        print( f\"No funciono, pero aquí hay una prediccion, para la imagen {path_photo}\")\n",
    "        predict_age(path_photo)"
   ]
  },
  {
   "cell_type": "markdown",
   "metadata": {},
   "source": [
    "We simply use Python's built-in sys module for getting user input, as we only need one argument from the user and that's the image path, the argparse module would be overkill.\n",
    "\n",
    "Let's test the code on this stock photo:\n",
    "\n"
   ]
  },
  {
   "cell_type": "code",
   "execution_count": null,
   "metadata": {},
   "outputs": [],
   "source": []
  }
 ],
 "metadata": {
  "kernelspec": {
   "display_name": "Python 3",
   "language": "python",
   "name": "python3"
  },
  "language_info": {
   "codemirror_mode": {
    "name": "ipython",
    "version": 3
   },
   "file_extension": ".py",
   "mimetype": "text/x-python",
   "name": "python",
   "nbconvert_exporter": "python",
   "pygments_lexer": "ipython3",
   "version": "3.8.15"
  },
  "orig_nbformat": 4,
  "vscode": {
   "interpreter": {
    "hash": "1123eb12c27317fb3cf44e941ddfdfc1431eedbfaa93e8cc8f74ef186e88ae9b"
   }
  }
 },
 "nbformat": 4,
 "nbformat_minor": 2
}
